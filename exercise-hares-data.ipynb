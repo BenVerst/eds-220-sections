{
 "cells": [
  {
   "cell_type": "markdown",
   "id": "bb7d325b-f7bf-4ee7-ac5c-2bd5417cb4f2",
   "metadata": {},
   "source": [
    "The data we are analyzing is about snowshoe hares. The variables within the data set are date, time, grid, trap, l_ear, r_ear, sex, age, weight, hindft, notes, b_key, session_id, and study. There are 3380 rows. \n",
    "\n",
    "Kielland, K., F.S. Chapin, R.W. Ruess, and Bonanza Creek LTER. 2017. Snowshoe hare physical data in Bonanza Creek Experimental Forest: 1999-Present ver 22. Environmental Data Initiative. https://doi.org/10.6073/pasta/03dce4856d79b91557d8e6ce2cbcdc14 (Accessed 2023-10-19)."
   ]
  },
  {
   "cell_type": "markdown",
   "id": "b5484d72-f4ec-49bf-b71f-edca7c36a567",
   "metadata": {
    "tags": []
   },
   "source": [
    "![ALAN SCHMIERER, Set 72157600401137773, ID 18988734889, Original title SNOWSHOE HARE (Lepus americanus) (5-28-2015) quoddy head, washington co, maine -01](https://upload.wikimedia.org/wikipedia/commons/8/8a/SNOWSHOE_HARE_%28Lepus_americanus%29_%285-28-2015%29_quoddy_head%2C_washington_co%2C_maine_-01_%2818988734889%29.jpg)"
   ]
  },
  {
   "cell_type": "code",
   "execution_count": 9,
   "id": "9fb14843-a45c-4468-a174-88884797cd52",
   "metadata": {
    "tags": []
   },
   "outputs": [],
   "source": [
    "import pandas as pd\n",
    "\n",
    "hares = pd.read_csv(\"55_Hare_Data_2012.txt\")"
   ]
  },
  {
   "cell_type": "code",
   "execution_count": 10,
   "id": "bfb7e99e-b2d3-45e2-9232-2f8f9663340f",
   "metadata": {
    "tags": []
   },
   "outputs": [
    {
     "data": {
      "text/plain": [
       "F     1161\n",
       "M      730\n",
       "f      556\n",
       "m      515\n",
       "?       40\n",
       "F?      10\n",
       "f        4\n",
       "m        4\n",
       "f?       3\n",
       "M?       2\n",
       "m?       2\n",
       "pf       1\n",
       "Name: sex, dtype: int64"
      ]
     },
     "execution_count": 10,
     "metadata": {},
     "output_type": "execute_result"
    }
   ],
   "source": [
    "hares.sex.value_counts()"
   ]
  }
 ],
 "metadata": {
  "kernelspec": {
   "display_name": "Anaconda 3 (Base)",
   "language": "python",
   "name": "base"
  },
  "language_info": {
   "codemirror_mode": {
    "name": "ipython",
    "version": 3
   },
   "file_extension": ".py",
   "mimetype": "text/x-python",
   "name": "python",
   "nbconvert_exporter": "python",
   "pygments_lexer": "ipython3",
   "version": "3.9.13"
  }
 },
 "nbformat": 4,
 "nbformat_minor": 5
}
